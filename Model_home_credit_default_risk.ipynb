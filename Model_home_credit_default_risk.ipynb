{
 "cells": [
  {
   "cell_type": "markdown",
   "metadata": {},
   "source": [
    "# Home Credit Default Risk\n",
    "\n",
    "Source : https://www.kaggle.com/c/home-credit-default-risk/overview \n",
    "\n",
    "Many people struggle to get loans due to insufficient or non-existent credit histories. And, unfortunately, this population is often taken advantage of by untrustworthy lenders.\n",
    "\n",
    "Home Credit strives to broaden financial inclusion for the unbanked population by providing a positive and safe borrowing experience. In order to make sure this underserved population has a positive loan experience, Home Credit makes use of a variety of alternative data--including telco and transactional information--to predict their clients' repayment abilities.\n",
    "\n",
    "While Home Credit is currently using various statistical and machine learning methods to make these predictions, they're challenging Kagglers to help them unlock the full potential of their data. Doing so will ensure that clients capable of repayment are not rejected and that loans are given with a principal, maturity, and repayment calendar that will empower their clients to be successful."
   ]
  },
  {
   "cell_type": "markdown",
   "metadata": {},
   "source": [
    "# Data Description\n",
    "\n",
    "---application_{train|test}.csv---\n",
    "\n",
    "This is the main table, broken into two files for Train (with TARGET) and Test (without TARGET).\n",
    "Static data for all applications. One row represents one loan in our data sample.\n",
    "\n",
    "---bureau.csv---\n",
    "\n",
    "All client's previous credits provided by other financial institutions that were reported to Credit Bureau (for clients who have a loan in our sample).\n",
    "For every loan in our sample, there are as many rows as number of credits the client had in Credit Bureau before the application date.\n",
    "\n",
    "---bureau_balance.csv---\n",
    "\n",
    "Monthly balances of previous credits in Credit Bureau.\n",
    "This table has one row for each month of history of every previous credit reported to Credit Bureau – i.e the table has (#loans in sample * # of relative previous credits * # of months where we have some history observable for the previous credits) rows.\n",
    "\n",
    "---POS_CASH_balance.csv---\n",
    "\n",
    "Monthly balance snapshots of previous POS (point of sales) and cash loans that the applicant had with Home Credit.\n",
    "This table has one row for each month of history of every previous credit in Home Credit (consumer credit and cash loans) related to loans in our sample – i.e. the table has (#loans in sample * # of relative previous credits * # of months in which we have some history observable for the previous credits) rows.\n",
    "\n",
    "---credit_card_balance.csv---\n",
    "\n",
    "Monthly balance snapshots of previous credit cards that the applicant has with Home Credit.\n",
    "This table has one row for each month of history of every previous credit in Home Credit (consumer credit and cash loans) related to loans in our sample – i.e. the table has (#loans in sample * # of relative previous credit cards * # of months where we have some history observable for the previous credit card) rows.\n",
    "\n",
    "\n",
    "---previous_application.csv---\n",
    "\n",
    "All previous applications for Home Credit loans of clients who have loans in our sample.\n",
    "There is one row for each previous application related to loans in our data sample.\n",
    "\n",
    "\n",
    "---installments_payments.csv---\n",
    "\n",
    "Repayment history for the previously disbursed credits in Home Credit related to the loans in our sample.\n",
    "There is a) one row for every payment that was made plus b) one row each for missed payment.\n",
    "One row is equivalent to one payment of one installment OR one installment corresponding to one payment of one previous Home Credit credit related to loans in our sample.\n",
    "\n",
    "\n",
    "---HomeCredit_columns_description.csv---\n",
    "\n",
    "This file contains descriptions for the columns in the various data files.\n"
   ]
  },
  {
   "cell_type": "code",
   "execution_count": 2,
   "metadata": {},
   "outputs": [],
   "source": [
    "import numpy as np\n",
    "import pandas as pd\n",
    "import matplotlib.pyplot as plt\n",
    "%matplotlib inline\n",
    "import seaborn as sns\n",
    "\n",
    "from sklearn.linear_model import LogisticRegression\n",
    "\n",
    "from sklearn.ensemble import RandomForestClassifier\n",
    "from sklearn.model_selection import cross_val_predict\n",
    "from sklearn.metrics import roc_curve\n",
    "from sklearn.metrics import roc_auc_score\n",
    "from sklearn.model_selection import GridSearchCV\n",
    "from sklearn.neighbors import KNeighborsClassifier\n",
    "\n",
    "from sklearn.pipeline import make_pipeline\n",
    "from sklearn.preprocessing import StandardScaler\n",
    "from sklearn.cluster import KMeans\n",
    "\n",
    "# import preprocessing from sklearn\n",
    "from sklearn.preprocessing import LabelEncoder \n",
    "from sklearn.preprocessing import OneHotEncoder\n",
    "\n",
    "# featuretools for automated feature engineering\n",
    "import featuretools as ft"
   ]
  },
  {
   "cell_type": "markdown",
   "metadata": {},
   "source": [
    "# 1.0 Data Loading"
   ]
  },
  {
   "cell_type": "code",
   "execution_count": 3,
   "metadata": {
    "scrolled": true
   },
   "outputs": [
    {
     "name": "stdout",
     "output_type": "stream",
     "text": [
      "Shape of Application Train File:  (307511, 122)\n",
      "Shape of Application Test File:  (48744, 121)\n",
      "Shape of Previous Application File:  (1670214, 37)\n",
      "Shape of Bureau File:  (1716428, 17)\n",
      "Shape of Bureau Balance File:  (27299925, 3)\n",
      "Shape of Installments Payment File:  (13605401, 8)\n",
      "Shape of Credit Card Balance File:  (3840312, 23)\n"
     ]
    },
    {
     "data": {
      "text/html": [
       "<div>\n",
       "<style scoped>\n",
       "    .dataframe tbody tr th:only-of-type {\n",
       "        vertical-align: middle;\n",
       "    }\n",
       "\n",
       "    .dataframe tbody tr th {\n",
       "        vertical-align: top;\n",
       "    }\n",
       "\n",
       "    .dataframe thead th {\n",
       "        text-align: right;\n",
       "    }\n",
       "</style>\n",
       "<table border=\"1\" class=\"dataframe\">\n",
       "  <thead>\n",
       "    <tr style=\"text-align: right;\">\n",
       "      <th></th>\n",
       "      <th>SK_ID_CURR</th>\n",
       "      <th>TARGET</th>\n",
       "      <th>NAME_CONTRACT_TYPE</th>\n",
       "      <th>CODE_GENDER</th>\n",
       "      <th>FLAG_OWN_CAR</th>\n",
       "      <th>FLAG_OWN_REALTY</th>\n",
       "      <th>CNT_CHILDREN</th>\n",
       "      <th>AMT_INCOME_TOTAL</th>\n",
       "      <th>AMT_CREDIT</th>\n",
       "      <th>AMT_ANNUITY</th>\n",
       "      <th>...</th>\n",
       "      <th>FLAG_DOCUMENT_18</th>\n",
       "      <th>FLAG_DOCUMENT_19</th>\n",
       "      <th>FLAG_DOCUMENT_20</th>\n",
       "      <th>FLAG_DOCUMENT_21</th>\n",
       "      <th>AMT_REQ_CREDIT_BUREAU_HOUR</th>\n",
       "      <th>AMT_REQ_CREDIT_BUREAU_DAY</th>\n",
       "      <th>AMT_REQ_CREDIT_BUREAU_WEEK</th>\n",
       "      <th>AMT_REQ_CREDIT_BUREAU_MON</th>\n",
       "      <th>AMT_REQ_CREDIT_BUREAU_QRT</th>\n",
       "      <th>AMT_REQ_CREDIT_BUREAU_YEAR</th>\n",
       "    </tr>\n",
       "  </thead>\n",
       "  <tbody>\n",
       "    <tr>\n",
       "      <th>0</th>\n",
       "      <td>100002</td>\n",
       "      <td>1</td>\n",
       "      <td>Cash loans</td>\n",
       "      <td>M</td>\n",
       "      <td>N</td>\n",
       "      <td>Y</td>\n",
       "      <td>0</td>\n",
       "      <td>202500.0</td>\n",
       "      <td>406597.5</td>\n",
       "      <td>24700.5</td>\n",
       "      <td>...</td>\n",
       "      <td>0</td>\n",
       "      <td>0</td>\n",
       "      <td>0</td>\n",
       "      <td>0</td>\n",
       "      <td>0.0</td>\n",
       "      <td>0.0</td>\n",
       "      <td>0.0</td>\n",
       "      <td>0.0</td>\n",
       "      <td>0.0</td>\n",
       "      <td>1.0</td>\n",
       "    </tr>\n",
       "    <tr>\n",
       "      <th>1</th>\n",
       "      <td>100003</td>\n",
       "      <td>0</td>\n",
       "      <td>Cash loans</td>\n",
       "      <td>F</td>\n",
       "      <td>N</td>\n",
       "      <td>N</td>\n",
       "      <td>0</td>\n",
       "      <td>270000.0</td>\n",
       "      <td>1293502.5</td>\n",
       "      <td>35698.5</td>\n",
       "      <td>...</td>\n",
       "      <td>0</td>\n",
       "      <td>0</td>\n",
       "      <td>0</td>\n",
       "      <td>0</td>\n",
       "      <td>0.0</td>\n",
       "      <td>0.0</td>\n",
       "      <td>0.0</td>\n",
       "      <td>0.0</td>\n",
       "      <td>0.0</td>\n",
       "      <td>0.0</td>\n",
       "    </tr>\n",
       "    <tr>\n",
       "      <th>2</th>\n",
       "      <td>100004</td>\n",
       "      <td>0</td>\n",
       "      <td>Revolving loans</td>\n",
       "      <td>M</td>\n",
       "      <td>Y</td>\n",
       "      <td>Y</td>\n",
       "      <td>0</td>\n",
       "      <td>67500.0</td>\n",
       "      <td>135000.0</td>\n",
       "      <td>6750.0</td>\n",
       "      <td>...</td>\n",
       "      <td>0</td>\n",
       "      <td>0</td>\n",
       "      <td>0</td>\n",
       "      <td>0</td>\n",
       "      <td>0.0</td>\n",
       "      <td>0.0</td>\n",
       "      <td>0.0</td>\n",
       "      <td>0.0</td>\n",
       "      <td>0.0</td>\n",
       "      <td>0.0</td>\n",
       "    </tr>\n",
       "    <tr>\n",
       "      <th>3</th>\n",
       "      <td>100006</td>\n",
       "      <td>0</td>\n",
       "      <td>Cash loans</td>\n",
       "      <td>F</td>\n",
       "      <td>N</td>\n",
       "      <td>Y</td>\n",
       "      <td>0</td>\n",
       "      <td>135000.0</td>\n",
       "      <td>312682.5</td>\n",
       "      <td>29686.5</td>\n",
       "      <td>...</td>\n",
       "      <td>0</td>\n",
       "      <td>0</td>\n",
       "      <td>0</td>\n",
       "      <td>0</td>\n",
       "      <td>NaN</td>\n",
       "      <td>NaN</td>\n",
       "      <td>NaN</td>\n",
       "      <td>NaN</td>\n",
       "      <td>NaN</td>\n",
       "      <td>NaN</td>\n",
       "    </tr>\n",
       "    <tr>\n",
       "      <th>4</th>\n",
       "      <td>100007</td>\n",
       "      <td>0</td>\n",
       "      <td>Cash loans</td>\n",
       "      <td>M</td>\n",
       "      <td>N</td>\n",
       "      <td>Y</td>\n",
       "      <td>0</td>\n",
       "      <td>121500.0</td>\n",
       "      <td>513000.0</td>\n",
       "      <td>21865.5</td>\n",
       "      <td>...</td>\n",
       "      <td>0</td>\n",
       "      <td>0</td>\n",
       "      <td>0</td>\n",
       "      <td>0</td>\n",
       "      <td>0.0</td>\n",
       "      <td>0.0</td>\n",
       "      <td>0.0</td>\n",
       "      <td>0.0</td>\n",
       "      <td>0.0</td>\n",
       "      <td>0.0</td>\n",
       "    </tr>\n",
       "  </tbody>\n",
       "</table>\n",
       "<p>5 rows × 122 columns</p>\n",
       "</div>"
      ],
      "text/plain": [
       "   SK_ID_CURR  TARGET NAME_CONTRACT_TYPE CODE_GENDER FLAG_OWN_CAR  \\\n",
       "0      100002       1         Cash loans           M            N   \n",
       "1      100003       0         Cash loans           F            N   \n",
       "2      100004       0    Revolving loans           M            Y   \n",
       "3      100006       0         Cash loans           F            N   \n",
       "4      100007       0         Cash loans           M            N   \n",
       "\n",
       "  FLAG_OWN_REALTY  CNT_CHILDREN  AMT_INCOME_TOTAL  AMT_CREDIT  AMT_ANNUITY  \\\n",
       "0               Y             0          202500.0    406597.5      24700.5   \n",
       "1               N             0          270000.0   1293502.5      35698.5   \n",
       "2               Y             0           67500.0    135000.0       6750.0   \n",
       "3               Y             0          135000.0    312682.5      29686.5   \n",
       "4               Y             0          121500.0    513000.0      21865.5   \n",
       "\n",
       "   ...  FLAG_DOCUMENT_18 FLAG_DOCUMENT_19 FLAG_DOCUMENT_20 FLAG_DOCUMENT_21  \\\n",
       "0  ...                 0                0                0                0   \n",
       "1  ...                 0                0                0                0   \n",
       "2  ...                 0                0                0                0   \n",
       "3  ...                 0                0                0                0   \n",
       "4  ...                 0                0                0                0   \n",
       "\n",
       "  AMT_REQ_CREDIT_BUREAU_HOUR AMT_REQ_CREDIT_BUREAU_DAY  \\\n",
       "0                        0.0                       0.0   \n",
       "1                        0.0                       0.0   \n",
       "2                        0.0                       0.0   \n",
       "3                        NaN                       NaN   \n",
       "4                        0.0                       0.0   \n",
       "\n",
       "   AMT_REQ_CREDIT_BUREAU_WEEK  AMT_REQ_CREDIT_BUREAU_MON  \\\n",
       "0                         0.0                        0.0   \n",
       "1                         0.0                        0.0   \n",
       "2                         0.0                        0.0   \n",
       "3                         NaN                        NaN   \n",
       "4                         0.0                        0.0   \n",
       "\n",
       "   AMT_REQ_CREDIT_BUREAU_QRT  AMT_REQ_CREDIT_BUREAU_YEAR  \n",
       "0                        0.0                         1.0  \n",
       "1                        0.0                         0.0  \n",
       "2                        0.0                         0.0  \n",
       "3                        NaN                         NaN  \n",
       "4                        0.0                         0.0  \n",
       "\n",
       "[5 rows x 122 columns]"
      ]
     },
     "execution_count": 3,
     "metadata": {},
     "output_type": "execute_result"
    }
   ],
   "source": [
    "#loading the files\n",
    "\n",
    "root_path = 'C:/Users/Jitendra Chauhan/Documents/Jitu/UFT/Machine Learning/Final Project/Home_Credit_Default_Risk/data/home-credit-default-risk/'\n",
    "df_train = pd.read_csv(root_path +'application_train.csv')\n",
    "df_test = pd.read_csv(root_path +'application_test.csv')\n",
    "df_prev_app = pd.read_csv(root_path +'previous_application.csv')\n",
    "df_bureau = pd.read_csv(root_path +'bureau.csv')\n",
    "df_bureau_bal = pd.read_csv(root_path +'bureau_balance.csv')\n",
    "df_inst_pay = pd.read_csv(root_path +'installments_payments.csv')\n",
    "df_credit_card_bal = pd.read_csv(root_path +'credit_card_balance.csv')\n",
    "\n",
    "\n",
    "print(\"Shape of Application Train File: \", df_train.shape)\n",
    "print(\"Shape of Application Test File: \", df_test.shape)\n",
    "print(\"Shape of Previous Application File: \", df_prev_app.shape)\n",
    "print(\"Shape of Bureau File: \", df_bureau.shape)\n",
    "print(\"Shape of Bureau Balance File: \", df_bureau_bal.shape)\n",
    "print(\"Shape of Installments Payment File: \", df_inst_pay.shape)\n",
    "print(\"Shape of Credit Card Balance File: \", df_credit_card_bal.shape)\n",
    "\n",
    "df_train.head()"
   ]
  },
  {
   "cell_type": "markdown",
   "metadata": {},
   "source": [
    "# 3.0 Data Merge\n",
    "\n",
    "In the abovr modules, We have just loaded one csv file i.e application_train.csv and did some data exploration and corelation.\n",
    "\n",
    "For any machine learning model to perform more accurately, we should take into consideration as much data point as we can.\n",
    "\n",
    "In this module, we would load other csv files and would merge those records with application_train.csv.\n"
   ]
  },
  {
   "cell_type": "code",
   "execution_count": 4,
   "metadata": {},
   "outputs": [
    {
     "name": "stdout",
     "output_type": "stream",
     "text": [
      "Shape of Application Train File:  (307511, 122)\n",
      "Shape of Application Test File:  (48744, 121)\n",
      "Shape of Previous Application File:  (1670214, 37)\n",
      "Shape of Bureau File:  (1716428, 17)\n",
      "Train Shape of Merge:  (8091522, 174)\n",
      "Test Shape of Merge:  (1582679, 173)\n"
     ]
    }
   ],
   "source": [
    "df_merge=pd.merge(df_train, df_bureau,on = 'SK_ID_CURR', how = 'left')\n",
    "df_merge = pd.merge(df_merge,df_prev_app,on = 'SK_ID_CURR', how = 'left')\n",
    "\n",
    "\n",
    "df_merge_test=pd.merge(df_test, df_bureau,on = 'SK_ID_CURR', how = 'left')\n",
    "df_merge_test= pd.merge(df_merge_test,df_prev_app,on = 'SK_ID_CURR', how = 'left')\n",
    "\n",
    "print(\"Shape of Application Train File: \", df_train.shape)\n",
    "print(\"Shape of Application Test File: \", df_test.shape)\n",
    "print(\"Shape of Previous Application File: \", df_prev_app.shape)\n",
    "print(\"Shape of Bureau File: \", df_bureau.shape)\n",
    "print(\"Train Shape of Merge: \", df_merge.shape)\n",
    "print(\"Test Shape of Merge: \", df_merge_test.shape)"
   ]
  },
  {
   "cell_type": "markdown",
   "metadata": {},
   "source": [
    "Understanding the Data Modelling\n",
    "\n",
    "This a structure relational database. There is one to many relations among these file.\n",
    "\n",
    "One record of client from application.csv can multiple records in previous_appliction.csv and bureau.csv.\n",
    "Also, one record of bureau.csv can have multiple records in bureau_balance.csv.\n",
    "\n",
    "So, as application.csv is our driver table, we would merge data by applying LEFT JOIN bureau.csv, previous_application to application.csv\n",
    "\n",
    "Primary Key : SK_ID_CURR"
   ]
  },
  {
   "cell_type": "code",
   "execution_count": 5,
   "metadata": {},
   "outputs": [],
   "source": [
    "# 2.1 Data Engineering"
   ]
  },
  {
   "cell_type": "code",
   "execution_count": 6,
   "metadata": {},
   "outputs": [],
   "source": [
    "# Function to calculate missing values by column# Funct \n",
    "def missing_values_table(df):\n",
    "        # Total missing values\n",
    "        mis_val = df.isnull().sum()\n",
    "        \n",
    "        # Percentage of missing values\n",
    "        mis_val_percent = 100 * df.isnull().sum() / len(df)\n",
    "        \n",
    "        # Make a table with the results\n",
    "        mis_val_table = pd.concat([mis_val, mis_val_percent], axis=1)\n",
    "        \n",
    "        # Rename the columns\n",
    "        mis_val_table_ren_columns = mis_val_table.rename(\n",
    "        columns = {0 : 'Missing Values', 1 : '% of Total Values'})\n",
    "        \n",
    "        # Sort the table by percentage of missing descending\n",
    "        mis_val_table_ren_columns = mis_val_table_ren_columns[\n",
    "            mis_val_table_ren_columns.iloc[:,1] != 0].sort_values(\n",
    "        '% of Total Values', ascending=False).round(1)\n",
    "        \n",
    "        # Print some summary information\n",
    "        print (\"Your selected dataframe has \" + str(df.shape[1]) + \" columns.\\n\"      \n",
    "            \"There are \" + str(mis_val_table_ren_columns.shape[0]) +\n",
    "              \" columns that have missing values.\")\n",
    "        \n",
    "        # Return the dataframe with missing information\n",
    "        return mis_val_table_ren_columns"
   ]
  },
  {
   "cell_type": "code",
   "execution_count": 7,
   "metadata": {},
   "outputs": [
    {
     "name": "stdout",
     "output_type": "stream",
     "text": [
      "Your selected dataframe has 174 columns.\n",
      "There are 119 columns that have missing values.\n"
     ]
    },
    {
     "data": {
      "text/html": [
       "<div>\n",
       "<style scoped>\n",
       "    .dataframe tbody tr th:only-of-type {\n",
       "        vertical-align: middle;\n",
       "    }\n",
       "\n",
       "    .dataframe tbody tr th {\n",
       "        vertical-align: top;\n",
       "    }\n",
       "\n",
       "    .dataframe thead th {\n",
       "        text-align: right;\n",
       "    }\n",
       "</style>\n",
       "<table border=\"1\" class=\"dataframe\">\n",
       "  <thead>\n",
       "    <tr style=\"text-align: right;\">\n",
       "      <th></th>\n",
       "      <th>Missing Values</th>\n",
       "      <th>% of Total Values</th>\n",
       "    </tr>\n",
       "  </thead>\n",
       "  <tbody>\n",
       "    <tr>\n",
       "      <th>RATE_INTEREST_PRIVILEGED</th>\n",
       "      <td>8065183</td>\n",
       "      <td>99.7</td>\n",
       "    </tr>\n",
       "    <tr>\n",
       "      <th>RATE_INTEREST_PRIMARY</th>\n",
       "      <td>8065183</td>\n",
       "      <td>99.7</td>\n",
       "    </tr>\n",
       "    <tr>\n",
       "      <th>AMT_ANNUITY_y</th>\n",
       "      <td>6219242</td>\n",
       "      <td>76.9</td>\n",
       "    </tr>\n",
       "    <tr>\n",
       "      <th>COMMONAREA_MODE</th>\n",
       "      <td>5490553</td>\n",
       "      <td>67.9</td>\n",
       "    </tr>\n",
       "    <tr>\n",
       "      <th>COMMONAREA_MEDI</th>\n",
       "      <td>5490553</td>\n",
       "      <td>67.9</td>\n",
       "    </tr>\n",
       "    <tr>\n",
       "      <th>COMMONAREA_AVG</th>\n",
       "      <td>5490553</td>\n",
       "      <td>67.9</td>\n",
       "    </tr>\n",
       "    <tr>\n",
       "      <th>NONLIVINGAPARTMENTS_AVG</th>\n",
       "      <td>5455142</td>\n",
       "      <td>67.4</td>\n",
       "    </tr>\n",
       "    <tr>\n",
       "      <th>NONLIVINGAPARTMENTS_MODE</th>\n",
       "      <td>5455142</td>\n",
       "      <td>67.4</td>\n",
       "    </tr>\n",
       "    <tr>\n",
       "      <th>NONLIVINGAPARTMENTS_MEDI</th>\n",
       "      <td>5455142</td>\n",
       "      <td>67.4</td>\n",
       "    </tr>\n",
       "    <tr>\n",
       "      <th>LIVINGAPARTMENTS_MODE</th>\n",
       "      <td>5366039</td>\n",
       "      <td>66.3</td>\n",
       "    </tr>\n",
       "    <tr>\n",
       "      <th>LIVINGAPARTMENTS_MEDI</th>\n",
       "      <td>5366039</td>\n",
       "      <td>66.3</td>\n",
       "    </tr>\n",
       "    <tr>\n",
       "      <th>LIVINGAPARTMENTS_AVG</th>\n",
       "      <td>5366039</td>\n",
       "      <td>66.3</td>\n",
       "    </tr>\n",
       "    <tr>\n",
       "      <th>FONDKAPREMONT_MODE</th>\n",
       "      <td>5364923</td>\n",
       "      <td>66.3</td>\n",
       "    </tr>\n",
       "    <tr>\n",
       "      <th>FLOORSMIN_MODE</th>\n",
       "      <td>5325037</td>\n",
       "      <td>65.8</td>\n",
       "    </tr>\n",
       "    <tr>\n",
       "      <th>FLOORSMIN_MEDI</th>\n",
       "      <td>5325037</td>\n",
       "      <td>65.8</td>\n",
       "    </tr>\n",
       "    <tr>\n",
       "      <th>FLOORSMIN_AVG</th>\n",
       "      <td>5325037</td>\n",
       "      <td>65.8</td>\n",
       "    </tr>\n",
       "    <tr>\n",
       "      <th>AMT_CREDIT_MAX_OVERDUE</th>\n",
       "      <td>5288363</td>\n",
       "      <td>65.4</td>\n",
       "    </tr>\n",
       "    <tr>\n",
       "      <th>OWN_CAR_AGE</th>\n",
       "      <td>5221325</td>\n",
       "      <td>64.5</td>\n",
       "    </tr>\n",
       "    <tr>\n",
       "      <th>YEARS_BUILD_AVG</th>\n",
       "      <td>5202350</td>\n",
       "      <td>64.3</td>\n",
       "    </tr>\n",
       "    <tr>\n",
       "      <th>YEARS_BUILD_MEDI</th>\n",
       "      <td>5202350</td>\n",
       "      <td>64.3</td>\n",
       "    </tr>\n",
       "  </tbody>\n",
       "</table>\n",
       "</div>"
      ],
      "text/plain": [
       "                          Missing Values  % of Total Values\n",
       "RATE_INTEREST_PRIVILEGED         8065183               99.7\n",
       "RATE_INTEREST_PRIMARY            8065183               99.7\n",
       "AMT_ANNUITY_y                    6219242               76.9\n",
       "COMMONAREA_MODE                  5490553               67.9\n",
       "COMMONAREA_MEDI                  5490553               67.9\n",
       "COMMONAREA_AVG                   5490553               67.9\n",
       "NONLIVINGAPARTMENTS_AVG          5455142               67.4\n",
       "NONLIVINGAPARTMENTS_MODE         5455142               67.4\n",
       "NONLIVINGAPARTMENTS_MEDI         5455142               67.4\n",
       "LIVINGAPARTMENTS_MODE            5366039               66.3\n",
       "LIVINGAPARTMENTS_MEDI            5366039               66.3\n",
       "LIVINGAPARTMENTS_AVG             5366039               66.3\n",
       "FONDKAPREMONT_MODE               5364923               66.3\n",
       "FLOORSMIN_MODE                   5325037               65.8\n",
       "FLOORSMIN_MEDI                   5325037               65.8\n",
       "FLOORSMIN_AVG                    5325037               65.8\n",
       "AMT_CREDIT_MAX_OVERDUE           5288363               65.4\n",
       "OWN_CAR_AGE                      5221325               64.5\n",
       "YEARS_BUILD_AVG                  5202350               64.3\n",
       "YEARS_BUILD_MEDI                 5202350               64.3"
      ]
     },
     "execution_count": 7,
     "metadata": {},
     "output_type": "execute_result"
    }
   ],
   "source": [
    "# Missing values statistics\n",
    "missing_values = missing_values_table(df_merge)\n",
    "missing_values.head(20)"
   ]
  },
  {
   "cell_type": "code",
   "execution_count": 8,
   "metadata": {},
   "outputs": [
    {
     "data": {
      "text/plain": [
       "float64    98\n",
       "int64      41\n",
       "object     35\n",
       "dtype: int64"
      ]
     },
     "execution_count": 8,
     "metadata": {},
     "output_type": "execute_result"
    }
   ],
   "source": [
    "# Number of data type of column\n",
    "df_merge.dtypes.value_counts()"
   ]
  },
  {
   "cell_type": "code",
   "execution_count": 9,
   "metadata": {},
   "outputs": [
    {
     "data": {
      "text/plain": [
       "NAME_CONTRACT_TYPE_x             2\n",
       "CODE_GENDER                      3\n",
       "FLAG_OWN_CAR                     2\n",
       "FLAG_OWN_REALTY                  2\n",
       "NAME_TYPE_SUITE_x                7\n",
       "NAME_INCOME_TYPE                 8\n",
       "NAME_EDUCATION_TYPE              5\n",
       "NAME_FAMILY_STATUS               6\n",
       "NAME_HOUSING_TYPE                6\n",
       "OCCUPATION_TYPE                 18\n",
       "WEEKDAY_APPR_PROCESS_START_x     7\n",
       "ORGANIZATION_TYPE               58\n",
       "FONDKAPREMONT_MODE               4\n",
       "HOUSETYPE_MODE                   3\n",
       "WALLSMATERIAL_MODE               7\n",
       "EMERGENCYSTATE_MODE              2\n",
       "CREDIT_ACTIVE                    4\n",
       "CREDIT_CURRENCY                  4\n",
       "CREDIT_TYPE                     15\n",
       "NAME_CONTRACT_TYPE_y             4\n",
       "WEEKDAY_APPR_PROCESS_START_y     7\n",
       "FLAG_LAST_APPL_PER_CONTRACT      2\n",
       "NAME_CASH_LOAN_PURPOSE          25\n",
       "NAME_CONTRACT_STATUS             4\n",
       "NAME_PAYMENT_TYPE                4\n",
       "CODE_REJECT_REASON               9\n",
       "NAME_TYPE_SUITE_y                7\n",
       "NAME_CLIENT_TYPE                 4\n",
       "NAME_GOODS_CATEGORY             27\n",
       "NAME_PORTFOLIO                   5\n",
       "NAME_PRODUCT_TYPE                3\n",
       "CHANNEL_TYPE                     8\n",
       "NAME_SELLER_INDUSTRY            11\n",
       "NAME_YIELD_GROUP                 5\n",
       "PRODUCT_COMBINATION             17\n",
       "dtype: int64"
      ]
     },
     "execution_count": 9,
     "metadata": {},
     "output_type": "execute_result"
    }
   ],
   "source": [
    "# Number of unique classes in each object column\n",
    "df_merge.select_dtypes('object').apply(pd.Series.nunique, axis = 0)"
   ]
  },
  {
   "cell_type": "code",
   "execution_count": 10,
   "metadata": {},
   "outputs": [
    {
     "name": "stdout",
     "output_type": "stream",
     "text": [
      "NAME_CONTRACT_TYPE_x\n",
      "FLAG_OWN_CAR\n",
      "FLAG_OWN_REALTY\n",
      "3 columns were label encoded in train\n",
      "NAME_CONTRACT_TYPE_x\n",
      "CODE_GENDER\n",
      "FLAG_OWN_CAR\n",
      "FLAG_OWN_REALTY\n",
      "3 columns were label encoded in test\n"
     ]
    }
   ],
   "source": [
    "# Create a label encoder object\n",
    "le = LabelEncoder()\n",
    "le_count = 0\n",
    "\n",
    "# Iterate through the columns\n",
    "for col in df_merge:\n",
    "    if df_merge[col].dtype == 'object':\n",
    "        # If 2 or fewer unique categories\n",
    "        if len(list(df_merge[col].unique())) <= 2:\n",
    "            print(col)\n",
    "            # Train on the training data\n",
    "            le.fit(df_merge[col])\n",
    "            # Transform both training and testing data\n",
    "            df_merge[col] = le.transform(df_merge[col])\n",
    "            #df_test[col] = le.transform(df_test[col])\n",
    "            \n",
    "            # Keep track of how many columns were label encoded\n",
    "            le_count += 1\n",
    "            \n",
    "print('%d columns were label encoded in train' % le_count)\n",
    "\n",
    "le_count_test = 0\n",
    "for col in df_merge_test:\n",
    "    if df_merge_test[col].dtype == 'object':\n",
    "        # If 2 or fewer unique categories\n",
    "        if len(list(df_merge_test[col].unique())) <= 2:\n",
    "            print(col)\n",
    "            # Train on the training data\n",
    "            le.fit(df_merge_test[col])\n",
    "            # Transform both training and testing data\n",
    "            df_merge_test[col] = le.transform(df_merge_test[col])\n",
    "            #df_test[col] = le.transform(df_test[col])\n",
    "            \n",
    "            # Keep track of how many columns were label encoded\n",
    "            le_count_test += 1\n",
    "            \n",
    "print('%d columns were label encoded in test' % le_count)"
   ]
  },
  {
   "cell_type": "code",
   "execution_count": 11,
   "metadata": {},
   "outputs": [
    {
     "data": {
      "text/html": [
       "<div>\n",
       "<style scoped>\n",
       "    .dataframe tbody tr th:only-of-type {\n",
       "        vertical-align: middle;\n",
       "    }\n",
       "\n",
       "    .dataframe tbody tr th {\n",
       "        vertical-align: top;\n",
       "    }\n",
       "\n",
       "    .dataframe thead th {\n",
       "        text-align: right;\n",
       "    }\n",
       "</style>\n",
       "<table border=\"1\" class=\"dataframe\">\n",
       "  <thead>\n",
       "    <tr style=\"text-align: right;\">\n",
       "      <th></th>\n",
       "      <th>SK_ID_CURR</th>\n",
       "      <th>TARGET</th>\n",
       "      <th>NAME_CONTRACT_TYPE_x</th>\n",
       "      <th>CODE_GENDER</th>\n",
       "      <th>FLAG_OWN_CAR</th>\n",
       "      <th>FLAG_OWN_REALTY</th>\n",
       "      <th>CNT_CHILDREN</th>\n",
       "      <th>AMT_INCOME_TOTAL</th>\n",
       "      <th>AMT_CREDIT_x</th>\n",
       "      <th>AMT_ANNUITY_x</th>\n",
       "      <th>...</th>\n",
       "      <th>NAME_SELLER_INDUSTRY</th>\n",
       "      <th>CNT_PAYMENT</th>\n",
       "      <th>NAME_YIELD_GROUP</th>\n",
       "      <th>PRODUCT_COMBINATION</th>\n",
       "      <th>DAYS_FIRST_DRAWING</th>\n",
       "      <th>DAYS_FIRST_DUE</th>\n",
       "      <th>DAYS_LAST_DUE_1ST_VERSION</th>\n",
       "      <th>DAYS_LAST_DUE</th>\n",
       "      <th>DAYS_TERMINATION</th>\n",
       "      <th>NFLAG_INSURED_ON_APPROVAL</th>\n",
       "    </tr>\n",
       "  </thead>\n",
       "  <tbody>\n",
       "    <tr>\n",
       "      <th>0</th>\n",
       "      <td>100002</td>\n",
       "      <td>1</td>\n",
       "      <td>0</td>\n",
       "      <td>M</td>\n",
       "      <td>0</td>\n",
       "      <td>1</td>\n",
       "      <td>0</td>\n",
       "      <td>202500.0</td>\n",
       "      <td>406597.5</td>\n",
       "      <td>24700.5</td>\n",
       "      <td>...</td>\n",
       "      <td>Auto technology</td>\n",
       "      <td>24.0</td>\n",
       "      <td>low_normal</td>\n",
       "      <td>POS other with interest</td>\n",
       "      <td>365243.0</td>\n",
       "      <td>-565.0</td>\n",
       "      <td>125.0</td>\n",
       "      <td>-25.0</td>\n",
       "      <td>-17.0</td>\n",
       "      <td>0.0</td>\n",
       "    </tr>\n",
       "    <tr>\n",
       "      <th>1</th>\n",
       "      <td>100002</td>\n",
       "      <td>1</td>\n",
       "      <td>0</td>\n",
       "      <td>M</td>\n",
       "      <td>0</td>\n",
       "      <td>1</td>\n",
       "      <td>0</td>\n",
       "      <td>202500.0</td>\n",
       "      <td>406597.5</td>\n",
       "      <td>24700.5</td>\n",
       "      <td>...</td>\n",
       "      <td>Auto technology</td>\n",
       "      <td>24.0</td>\n",
       "      <td>low_normal</td>\n",
       "      <td>POS other with interest</td>\n",
       "      <td>365243.0</td>\n",
       "      <td>-565.0</td>\n",
       "      <td>125.0</td>\n",
       "      <td>-25.0</td>\n",
       "      <td>-17.0</td>\n",
       "      <td>0.0</td>\n",
       "    </tr>\n",
       "    <tr>\n",
       "      <th>2</th>\n",
       "      <td>100002</td>\n",
       "      <td>1</td>\n",
       "      <td>0</td>\n",
       "      <td>M</td>\n",
       "      <td>0</td>\n",
       "      <td>1</td>\n",
       "      <td>0</td>\n",
       "      <td>202500.0</td>\n",
       "      <td>406597.5</td>\n",
       "      <td>24700.5</td>\n",
       "      <td>...</td>\n",
       "      <td>Auto technology</td>\n",
       "      <td>24.0</td>\n",
       "      <td>low_normal</td>\n",
       "      <td>POS other with interest</td>\n",
       "      <td>365243.0</td>\n",
       "      <td>-565.0</td>\n",
       "      <td>125.0</td>\n",
       "      <td>-25.0</td>\n",
       "      <td>-17.0</td>\n",
       "      <td>0.0</td>\n",
       "    </tr>\n",
       "    <tr>\n",
       "      <th>3</th>\n",
       "      <td>100002</td>\n",
       "      <td>1</td>\n",
       "      <td>0</td>\n",
       "      <td>M</td>\n",
       "      <td>0</td>\n",
       "      <td>1</td>\n",
       "      <td>0</td>\n",
       "      <td>202500.0</td>\n",
       "      <td>406597.5</td>\n",
       "      <td>24700.5</td>\n",
       "      <td>...</td>\n",
       "      <td>Auto technology</td>\n",
       "      <td>24.0</td>\n",
       "      <td>low_normal</td>\n",
       "      <td>POS other with interest</td>\n",
       "      <td>365243.0</td>\n",
       "      <td>-565.0</td>\n",
       "      <td>125.0</td>\n",
       "      <td>-25.0</td>\n",
       "      <td>-17.0</td>\n",
       "      <td>0.0</td>\n",
       "    </tr>\n",
       "    <tr>\n",
       "      <th>4</th>\n",
       "      <td>100002</td>\n",
       "      <td>1</td>\n",
       "      <td>0</td>\n",
       "      <td>M</td>\n",
       "      <td>0</td>\n",
       "      <td>1</td>\n",
       "      <td>0</td>\n",
       "      <td>202500.0</td>\n",
       "      <td>406597.5</td>\n",
       "      <td>24700.5</td>\n",
       "      <td>...</td>\n",
       "      <td>Auto technology</td>\n",
       "      <td>24.0</td>\n",
       "      <td>low_normal</td>\n",
       "      <td>POS other with interest</td>\n",
       "      <td>365243.0</td>\n",
       "      <td>-565.0</td>\n",
       "      <td>125.0</td>\n",
       "      <td>-25.0</td>\n",
       "      <td>-17.0</td>\n",
       "      <td>0.0</td>\n",
       "    </tr>\n",
       "  </tbody>\n",
       "</table>\n",
       "<p>5 rows × 174 columns</p>\n",
       "</div>"
      ],
      "text/plain": [
       "   SK_ID_CURR  TARGET  NAME_CONTRACT_TYPE_x CODE_GENDER  FLAG_OWN_CAR  \\\n",
       "0      100002       1                     0           M             0   \n",
       "1      100002       1                     0           M             0   \n",
       "2      100002       1                     0           M             0   \n",
       "3      100002       1                     0           M             0   \n",
       "4      100002       1                     0           M             0   \n",
       "\n",
       "   FLAG_OWN_REALTY  CNT_CHILDREN  AMT_INCOME_TOTAL  AMT_CREDIT_x  \\\n",
       "0                1             0          202500.0      406597.5   \n",
       "1                1             0          202500.0      406597.5   \n",
       "2                1             0          202500.0      406597.5   \n",
       "3                1             0          202500.0      406597.5   \n",
       "4                1             0          202500.0      406597.5   \n",
       "\n",
       "   AMT_ANNUITY_x  ...  NAME_SELLER_INDUSTRY CNT_PAYMENT NAME_YIELD_GROUP  \\\n",
       "0        24700.5  ...       Auto technology        24.0       low_normal   \n",
       "1        24700.5  ...       Auto technology        24.0       low_normal   \n",
       "2        24700.5  ...       Auto technology        24.0       low_normal   \n",
       "3        24700.5  ...       Auto technology        24.0       low_normal   \n",
       "4        24700.5  ...       Auto technology        24.0       low_normal   \n",
       "\n",
       "       PRODUCT_COMBINATION DAYS_FIRST_DRAWING DAYS_FIRST_DUE  \\\n",
       "0  POS other with interest           365243.0         -565.0   \n",
       "1  POS other with interest           365243.0         -565.0   \n",
       "2  POS other with interest           365243.0         -565.0   \n",
       "3  POS other with interest           365243.0         -565.0   \n",
       "4  POS other with interest           365243.0         -565.0   \n",
       "\n",
       "   DAYS_LAST_DUE_1ST_VERSION  DAYS_LAST_DUE  DAYS_TERMINATION  \\\n",
       "0                      125.0          -25.0             -17.0   \n",
       "1                      125.0          -25.0             -17.0   \n",
       "2                      125.0          -25.0             -17.0   \n",
       "3                      125.0          -25.0             -17.0   \n",
       "4                      125.0          -25.0             -17.0   \n",
       "\n",
       "   NFLAG_INSURED_ON_APPROVAL  \n",
       "0                        0.0  \n",
       "1                        0.0  \n",
       "2                        0.0  \n",
       "3                        0.0  \n",
       "4                        0.0  \n",
       "\n",
       "[5 rows x 174 columns]"
      ]
     },
     "execution_count": 11,
     "metadata": {},
     "output_type": "execute_result"
    }
   ],
   "source": [
    "#to verify few records \n",
    "df_merge.head()"
   ]
  },
  {
   "cell_type": "code",
   "execution_count": 12,
   "metadata": {},
   "outputs": [],
   "source": [
    "# One-hot encoding for categorical columns with get_dummies\n",
    "def one_hot_encoder(df, nan_as_category = True):\n",
    "    original_columns = list(df.columns)\n",
    "    categorical_columns = [col for col in df.columns if df[col].dtype == 'object']\n",
    "    df = pd.get_dummies(df, columns= categorical_columns, dummy_na= nan_as_category)\n",
    "    new_columns = [c for c in df.columns if c not in original_columns]\n",
    "    return df, new_columns"
   ]
  },
  {
   "cell_type": "code",
   "execution_count": 13,
   "metadata": {},
   "outputs": [],
   "source": [
    "df_merge, cat_cols = one_hot_encoder(df_merge, True)\n",
    "df_merge_test, cat_cols = one_hot_encoder(df_merge_test, True)"
   ]
  },
  {
   "cell_type": "code",
   "execution_count": 14,
   "metadata": {},
   "outputs": [
    {
     "data": {
      "text/html": [
       "<div>\n",
       "<style scoped>\n",
       "    .dataframe tbody tr th:only-of-type {\n",
       "        vertical-align: middle;\n",
       "    }\n",
       "\n",
       "    .dataframe tbody tr th {\n",
       "        vertical-align: top;\n",
       "    }\n",
       "\n",
       "    .dataframe thead th {\n",
       "        text-align: right;\n",
       "    }\n",
       "</style>\n",
       "<table border=\"1\" class=\"dataframe\">\n",
       "  <thead>\n",
       "    <tr style=\"text-align: right;\">\n",
       "      <th></th>\n",
       "      <th>SK_ID_CURR</th>\n",
       "      <th>TARGET</th>\n",
       "      <th>NAME_CONTRACT_TYPE_x</th>\n",
       "      <th>FLAG_OWN_CAR</th>\n",
       "      <th>FLAG_OWN_REALTY</th>\n",
       "      <th>CNT_CHILDREN</th>\n",
       "      <th>AMT_INCOME_TOTAL</th>\n",
       "      <th>AMT_CREDIT_x</th>\n",
       "      <th>AMT_ANNUITY_x</th>\n",
       "      <th>AMT_GOODS_PRICE_x</th>\n",
       "      <th>...</th>\n",
       "      <th>PRODUCT_COMBINATION_Cash X-Sell: middle</th>\n",
       "      <th>PRODUCT_COMBINATION_POS household with interest</th>\n",
       "      <th>PRODUCT_COMBINATION_POS household without interest</th>\n",
       "      <th>PRODUCT_COMBINATION_POS industry with interest</th>\n",
       "      <th>PRODUCT_COMBINATION_POS industry without interest</th>\n",
       "      <th>PRODUCT_COMBINATION_POS mobile with interest</th>\n",
       "      <th>PRODUCT_COMBINATION_POS mobile without interest</th>\n",
       "      <th>PRODUCT_COMBINATION_POS other with interest</th>\n",
       "      <th>PRODUCT_COMBINATION_POS others without interest</th>\n",
       "      <th>PRODUCT_COMBINATION_nan</th>\n",
       "    </tr>\n",
       "  </thead>\n",
       "  <tbody>\n",
       "    <tr>\n",
       "      <th>0</th>\n",
       "      <td>100002</td>\n",
       "      <td>1</td>\n",
       "      <td>0</td>\n",
       "      <td>0</td>\n",
       "      <td>1</td>\n",
       "      <td>0</td>\n",
       "      <td>202500.0</td>\n",
       "      <td>406597.5</td>\n",
       "      <td>24700.5</td>\n",
       "      <td>351000.0</td>\n",
       "      <td>...</td>\n",
       "      <td>0</td>\n",
       "      <td>0</td>\n",
       "      <td>0</td>\n",
       "      <td>0</td>\n",
       "      <td>0</td>\n",
       "      <td>0</td>\n",
       "      <td>0</td>\n",
       "      <td>1</td>\n",
       "      <td>0</td>\n",
       "      <td>0</td>\n",
       "    </tr>\n",
       "    <tr>\n",
       "      <th>1</th>\n",
       "      <td>100002</td>\n",
       "      <td>1</td>\n",
       "      <td>0</td>\n",
       "      <td>0</td>\n",
       "      <td>1</td>\n",
       "      <td>0</td>\n",
       "      <td>202500.0</td>\n",
       "      <td>406597.5</td>\n",
       "      <td>24700.5</td>\n",
       "      <td>351000.0</td>\n",
       "      <td>...</td>\n",
       "      <td>0</td>\n",
       "      <td>0</td>\n",
       "      <td>0</td>\n",
       "      <td>0</td>\n",
       "      <td>0</td>\n",
       "      <td>0</td>\n",
       "      <td>0</td>\n",
       "      <td>1</td>\n",
       "      <td>0</td>\n",
       "      <td>0</td>\n",
       "    </tr>\n",
       "    <tr>\n",
       "      <th>2</th>\n",
       "      <td>100002</td>\n",
       "      <td>1</td>\n",
       "      <td>0</td>\n",
       "      <td>0</td>\n",
       "      <td>1</td>\n",
       "      <td>0</td>\n",
       "      <td>202500.0</td>\n",
       "      <td>406597.5</td>\n",
       "      <td>24700.5</td>\n",
       "      <td>351000.0</td>\n",
       "      <td>...</td>\n",
       "      <td>0</td>\n",
       "      <td>0</td>\n",
       "      <td>0</td>\n",
       "      <td>0</td>\n",
       "      <td>0</td>\n",
       "      <td>0</td>\n",
       "      <td>0</td>\n",
       "      <td>1</td>\n",
       "      <td>0</td>\n",
       "      <td>0</td>\n",
       "    </tr>\n",
       "    <tr>\n",
       "      <th>3</th>\n",
       "      <td>100002</td>\n",
       "      <td>1</td>\n",
       "      <td>0</td>\n",
       "      <td>0</td>\n",
       "      <td>1</td>\n",
       "      <td>0</td>\n",
       "      <td>202500.0</td>\n",
       "      <td>406597.5</td>\n",
       "      <td>24700.5</td>\n",
       "      <td>351000.0</td>\n",
       "      <td>...</td>\n",
       "      <td>0</td>\n",
       "      <td>0</td>\n",
       "      <td>0</td>\n",
       "      <td>0</td>\n",
       "      <td>0</td>\n",
       "      <td>0</td>\n",
       "      <td>0</td>\n",
       "      <td>1</td>\n",
       "      <td>0</td>\n",
       "      <td>0</td>\n",
       "    </tr>\n",
       "    <tr>\n",
       "      <th>4</th>\n",
       "      <td>100002</td>\n",
       "      <td>1</td>\n",
       "      <td>0</td>\n",
       "      <td>0</td>\n",
       "      <td>1</td>\n",
       "      <td>0</td>\n",
       "      <td>202500.0</td>\n",
       "      <td>406597.5</td>\n",
       "      <td>24700.5</td>\n",
       "      <td>351000.0</td>\n",
       "      <td>...</td>\n",
       "      <td>0</td>\n",
       "      <td>0</td>\n",
       "      <td>0</td>\n",
       "      <td>0</td>\n",
       "      <td>0</td>\n",
       "      <td>0</td>\n",
       "      <td>0</td>\n",
       "      <td>1</td>\n",
       "      <td>0</td>\n",
       "      <td>0</td>\n",
       "    </tr>\n",
       "  </tbody>\n",
       "</table>\n",
       "<p>5 rows × 473 columns</p>\n",
       "</div>"
      ],
      "text/plain": [
       "   SK_ID_CURR  TARGET  NAME_CONTRACT_TYPE_x  FLAG_OWN_CAR  FLAG_OWN_REALTY  \\\n",
       "0      100002       1                     0             0                1   \n",
       "1      100002       1                     0             0                1   \n",
       "2      100002       1                     0             0                1   \n",
       "3      100002       1                     0             0                1   \n",
       "4      100002       1                     0             0                1   \n",
       "\n",
       "   CNT_CHILDREN  AMT_INCOME_TOTAL  AMT_CREDIT_x  AMT_ANNUITY_x  \\\n",
       "0             0          202500.0      406597.5        24700.5   \n",
       "1             0          202500.0      406597.5        24700.5   \n",
       "2             0          202500.0      406597.5        24700.5   \n",
       "3             0          202500.0      406597.5        24700.5   \n",
       "4             0          202500.0      406597.5        24700.5   \n",
       "\n",
       "   AMT_GOODS_PRICE_x  ...  PRODUCT_COMBINATION_Cash X-Sell: middle  \\\n",
       "0           351000.0  ...                                        0   \n",
       "1           351000.0  ...                                        0   \n",
       "2           351000.0  ...                                        0   \n",
       "3           351000.0  ...                                        0   \n",
       "4           351000.0  ...                                        0   \n",
       "\n",
       "   PRODUCT_COMBINATION_POS household with interest  \\\n",
       "0                                                0   \n",
       "1                                                0   \n",
       "2                                                0   \n",
       "3                                                0   \n",
       "4                                                0   \n",
       "\n",
       "   PRODUCT_COMBINATION_POS household without interest  \\\n",
       "0                                                  0    \n",
       "1                                                  0    \n",
       "2                                                  0    \n",
       "3                                                  0    \n",
       "4                                                  0    \n",
       "\n",
       "   PRODUCT_COMBINATION_POS industry with interest  \\\n",
       "0                                               0   \n",
       "1                                               0   \n",
       "2                                               0   \n",
       "3                                               0   \n",
       "4                                               0   \n",
       "\n",
       "   PRODUCT_COMBINATION_POS industry without interest  \\\n",
       "0                                                  0   \n",
       "1                                                  0   \n",
       "2                                                  0   \n",
       "3                                                  0   \n",
       "4                                                  0   \n",
       "\n",
       "   PRODUCT_COMBINATION_POS mobile with interest  \\\n",
       "0                                             0   \n",
       "1                                             0   \n",
       "2                                             0   \n",
       "3                                             0   \n",
       "4                                             0   \n",
       "\n",
       "   PRODUCT_COMBINATION_POS mobile without interest  \\\n",
       "0                                                0   \n",
       "1                                                0   \n",
       "2                                                0   \n",
       "3                                                0   \n",
       "4                                                0   \n",
       "\n",
       "   PRODUCT_COMBINATION_POS other with interest  \\\n",
       "0                                            1   \n",
       "1                                            1   \n",
       "2                                            1   \n",
       "3                                            1   \n",
       "4                                            1   \n",
       "\n",
       "   PRODUCT_COMBINATION_POS others without interest  PRODUCT_COMBINATION_nan  \n",
       "0                                                0                        0  \n",
       "1                                                0                        0  \n",
       "2                                                0                        0  \n",
       "3                                                0                        0  \n",
       "4                                                0                        0  \n",
       "\n",
       "[5 rows x 473 columns]"
      ]
     },
     "execution_count": 14,
     "metadata": {},
     "output_type": "execute_result"
    }
   ],
   "source": [
    "#verify few records after One hot encoder\n",
    "df_merge.head()"
   ]
  },
  {
   "cell_type": "code",
   "execution_count": 15,
   "metadata": {},
   "outputs": [
    {
     "data": {
      "text/plain": [
       "40"
      ]
     },
     "execution_count": 15,
     "metadata": {},
     "output_type": "execute_result"
    }
   ],
   "source": [
    "#to remove some garbage collection. To free up some space\n",
    "import gc\n",
    "gc.collect()"
   ]
  },
  {
   "cell_type": "code",
   "execution_count": 16,
   "metadata": {},
   "outputs": [
    {
     "name": "stdout",
     "output_type": "stream",
     "text": [
      "(80915, 473)\n"
     ]
    }
   ],
   "source": [
    "df_merge_sample = df_merge.sample(frac=0.01)\n",
    "print(df_merge_sample.shape)\n",
    "\n",
    "#In order to split the dataset in train and test, we seperate the target variable from other features.\n",
    "\n",
    "# Here, TARGET is the feature to be predicted\n",
    "\n",
    "y = df_merge_sample['TARGET']\n",
    "X = df_merge_sample.drop('TARGET', axis=1) \n"
   ]
  },
  {
   "cell_type": "markdown",
   "metadata": {},
   "source": [
    "After merging and one hot encoder, the dataframe became huge. \n",
    "\n",
    "The current dataframe is around 8 million records with 462 columns.\n",
    "\n",
    "It's very difficult to handle this huge dataframe and most of the time the program hangs and fails with Memory exception.\n",
    "\n",
    "So, we are only considering 1% of the data for our model. "
   ]
  },
  {
   "cell_type": "code",
   "execution_count": 17,
   "metadata": {},
   "outputs": [
    {
     "data": {
      "text/plain": [
       "((24274, 472), (56641, 472), (24274,), (56641,))"
      ]
     },
     "execution_count": 17,
     "metadata": {},
     "output_type": "execute_result"
    }
   ],
   "source": [
    "from sklearn.model_selection import train_test_split\n",
    "\n",
    "\n",
    "X_train, X_test, y_train, y_test= train_test_split(X, y, test_size=0.70, stratify=y)\n",
    "\n",
    "X_train.shape, X_test.shape, y_train.shape, y_test.shape\n"
   ]
  },
  {
   "cell_type": "markdown",
   "metadata": {},
   "source": [
    "# 4.0 Dimension Reduction and Scaling\n",
    "\n",
    "Let's use Standard Scalar to have all the features at the same scale. Standard Scalar scales all the features so the model doesn't get impacted by some high values features.\n",
    "\n",
    "PCA is used to anlayse the important features of the dataframe."
   ]
  },
  {
   "cell_type": "code",
   "execution_count": 18,
   "metadata": {},
   "outputs": [],
   "source": [
    "from sklearn.decomposition import PCA \n",
    "from sklearn.pipeline import make_pipeline\n",
    "from sklearn.preprocessing import StandardScaler\n",
    "\n",
    "scaler = StandardScaler()\n",
    "pca=PCA()\n"
   ]
  },
  {
   "cell_type": "code",
   "execution_count": 19,
   "metadata": {},
   "outputs": [
    {
     "data": {
      "text/plain": [
       "80"
      ]
     },
     "execution_count": 19,
     "metadata": {},
     "output_type": "execute_result"
    }
   ],
   "source": [
    "#to remove some garbage collection. To free up some space\n",
    "import gc\n",
    "gc.collect()"
   ]
  },
  {
   "cell_type": "code",
   "execution_count": 20,
   "metadata": {},
   "outputs": [],
   "source": [
    "# Standard scalar to test and train data\n",
    "\n",
    "X_train = scaler.fit_transform(X_train)\n",
    "X_test = scaler.fit_transform(X_test)\n",
    "\n"
   ]
  },
  {
   "cell_type": "code",
   "execution_count": 21,
   "metadata": {},
   "outputs": [],
   "source": [
    "X_train = np.nan_to_num(X_train)\n",
    "X_test = np.nan_to_num(X_test)"
   ]
  },
  {
   "cell_type": "code",
   "execution_count": 22,
   "metadata": {},
   "outputs": [
    {
     "data": {
      "text/plain": [
       "Pipeline(memory=None,\n",
       "         steps=[('standardscaler',\n",
       "                 StandardScaler(copy=True, with_mean=True, with_std=True)),\n",
       "                ('pca',\n",
       "                 PCA(copy=True, iterated_power='auto', n_components=None,\n",
       "                     random_state=None, svd_solver='auto', tol=0.0,\n",
       "                     whiten=False))],\n",
       "         verbose=False)"
      ]
     },
     "execution_count": 22,
     "metadata": {},
     "output_type": "execute_result"
    }
   ],
   "source": [
    "#Pipeline for standard scalar and PCA\n",
    "pipeline=make_pipeline (scaler, pca)\n",
    "pipeline.fit(X_train)\n",
    "pipeline.fit(X_test)"
   ]
  },
  {
   "cell_type": "markdown",
   "metadata": {},
   "source": [
    "Below code to use PCA and get the variance ratio to analyse the important features impacting the dataframe"
   ]
  },
  {
   "cell_type": "code",
   "execution_count": 23,
   "metadata": {},
   "outputs": [
    {
     "name": "stdout",
     "output_type": "stream",
     "text": [
      "[0.03868489 0.07298188 0.0939825  0.11370317 0.13186183 0.14821514\n",
      " 0.16078856 0.17109011 0.18127935 0.19047728 0.19935305 0.2079642\n",
      " 0.21610981 0.22338646 0.23044556 0.23710964 0.24344249 0.24961628\n",
      " 0.25563426 0.26151219 0.26719709 0.27265936 0.27791154 0.28307\n",
      " 0.28815758 0.29317428 0.29809917 0.30296929 0.30775281 0.31245256\n",
      " 0.317108   0.32167402 0.32616694 0.33054523 0.334769   0.33891986\n",
      " 0.3429781  0.34698634 0.35093842 0.35477306 0.35857578 0.36236634\n",
      " 0.36611826 0.36985199 0.37353127 0.37716042 0.38069056 0.38420429\n",
      " 0.38768195 0.3911415  0.39453415 0.3979144  0.40128383 0.40459893\n",
      " 0.4078827  0.4111523  0.41441066 0.41764397 0.42086104 0.42404088\n",
      " 0.42719639 0.43031467 0.4334102  0.43648669 0.43954987 0.4426114\n",
      " 0.44564983 0.4486831  0.45171297 0.45471519 0.4577003  0.46066517\n",
      " 0.46362728 0.46658291 0.46953259 0.47247158 0.4753925  0.4783087\n",
      " 0.48121934 0.4841042  0.48698507 0.48985623 0.49272064 0.49556986\n",
      " 0.49841823 0.50125801 0.50408066 0.50690064 0.50971313 0.51251356\n",
      " 0.51531021 0.51809294 0.52086982 0.52363062 0.52638471 0.52913321\n",
      " 0.53187768 0.5346187  0.53734651 0.54006399 0.54277551 0.54547855\n",
      " 0.54817789 0.55087144 0.55356373 0.5562453  0.55892412 0.5615975\n",
      " 0.56426414 0.56692289 0.56957942 0.57222961 0.57486853 0.57750564\n",
      " 0.58014222 0.5827764  0.58540416 0.58802589 0.59064183 0.59324735\n",
      " 0.59585191 0.59845532 0.60105045 0.60364135 0.60622671 0.6088095\n",
      " 0.61138665 0.61395425 0.61651818 0.61907805 0.6216287  0.62417486\n",
      " 0.62671199 0.62924746 0.63178177 0.63431237 0.63683756 0.63936044\n",
      " 0.64187896 0.64439402 0.64690325 0.64940975 0.65191478 0.65441216\n",
      " 0.65690601 0.65939455 0.66188052 0.66436359 0.66684014 0.66931381\n",
      " 0.67178268 0.67424742 0.67670994 0.67916949 0.68162713 0.68408262\n",
      " 0.68653384 0.68898143 0.69142719 0.69386933 0.69630548 0.69873992\n",
      " 0.70117136 0.70359833 0.70602333 0.70844763 0.71086804 0.71328328\n",
      " 0.71569222 0.71809928 0.72050357 0.72290497 0.72530485 0.727701\n",
      " 0.7300924  0.7324778  0.73485849 0.73723758 0.73961483 0.74199122\n",
      " 0.74436048 0.74672811 0.74909183 0.75144877 0.75380459 0.75615645\n",
      " 0.75850049 0.76084248 0.7631784  0.76551313 0.76784221 0.77016918\n",
      " 0.77248894 0.7748048  0.77711753 0.77942966 0.78173019 0.78403026\n",
      " 0.78632658 0.7886147  0.79089645 0.79317492 0.79545177 0.79772628\n",
      " 0.79999931 0.80226288 0.80452479 0.80678295 0.80903046 0.81127314\n",
      " 0.81350625 0.81573366 0.81795611 0.82017648 0.82239438 0.82461063\n",
      " 0.8268218  0.82902495 0.83122679 0.83342009 0.83560791 0.8377918\n",
      " 0.83996876 0.84213921 0.8443051  0.84646963 0.84862481 0.85077213\n",
      " 0.85291509 0.85505571 0.85718737 0.85931313 0.86143342 0.86354689\n",
      " 0.86564262 0.86773165 0.86981531 0.87189304 0.87396875 0.87603456\n",
      " 0.87809328 0.88013814 0.88217789 0.88420189 0.88622075 0.88823377\n",
      " 0.8902286  0.89222135 0.89420891 0.89619286 0.89815465 0.90010883\n",
      " 0.90203845 0.90396392 0.90588751 0.90779679 0.90970315 0.91158742\n",
      " 0.91346386 0.91533564 0.917198   0.91904042 0.92087127 0.92268888\n",
      " 0.92448223 0.92625863 0.92802431 0.92974383 0.93145603 0.93314411\n",
      " 0.93482198 0.93647257 0.93811667 0.93972466 0.941326   0.94291625\n",
      " 0.94449899 0.94607105 0.9476196  0.94915822 0.95068324 0.95217448\n",
      " 0.95364837 0.95507801 0.95649182 0.95788133 0.95926031 0.96062957\n",
      " 0.96197574 0.96330511 0.96462856 0.96594053 0.96723461 0.96850351\n",
      " 0.96970383 0.97088657 0.97205655 0.97319938 0.974318   0.97543133\n",
      " 0.97647348 0.97750604 0.97851298 0.97949086 0.98042839 0.98132791\n",
      " 0.98221419 0.98306384 0.9839002  0.98471459 0.98546803 0.98620195\n",
      " 0.98693515 0.98765249 0.9883561  0.98904042 0.98970371 0.99034231\n",
      " 0.99095808 0.99156119 0.99211458 0.99266048 0.99316423 0.99366211\n",
      " 0.99410695 0.99453622 0.99495318 0.9952959  0.99562897 0.99595329\n",
      " 0.99626136 0.99656413 0.99686203 0.99714887 0.99739029 0.99761552\n",
      " 0.99781712 0.99800802 0.99818817 0.99836262 0.99850725 0.99864393\n",
      " 0.99876548 0.99888503 0.99899981 0.99911249 0.99922503 0.99931645\n",
      " 0.99939784 0.99946447 0.99952659 0.99958251 0.99962189 0.99965896\n",
      " 0.99969511 0.99972649 0.99975503 0.99977888 0.99980059 0.99982111\n",
      " 0.99983853 0.99985465 0.99986873 0.99988213 0.99989504 0.99990655\n",
      " 0.99991772 0.99992669 0.99993519 0.99994344 0.99995152 0.99995925\n",
      " 0.9999662  0.99997156 0.99997575 0.99997942 0.99998274 0.99998576\n",
      " 0.99998855 0.99999123 0.99999349 0.99999504 0.99999641 0.99999758\n",
      " 0.99999834 0.99999897 0.99999952 0.99999981 1.         1.\n",
      " 1.         1.         1.         1.         1.         1.\n",
      " 1.         1.         1.         1.         1.         1.\n",
      " 1.         1.         1.         1.         1.         1.\n",
      " 1.         1.         1.         1.         1.         1.\n",
      " 1.         1.         1.         1.         1.         1.\n",
      " 1.         1.         1.         1.         1.         1.\n",
      " 1.         1.         1.         1.         1.         1.\n",
      " 1.         1.         1.         1.         1.         1.\n",
      " 1.         1.         1.         1.         1.         1.\n",
      " 1.         1.         1.         1.         1.         1.\n",
      " 1.         1.         1.         1.         1.         1.\n",
      " 1.         1.         1.         1.         1.         1.\n",
      " 1.         1.         1.         1.         1.         1.\n",
      " 1.         1.         1.         1.        ]\n"
     ]
    },
    {
     "data": {
      "image/png": "[encoded data removed]",
      "text/plain": [
       "<Figure size 1080x432 with 1 Axes>"
      ]
     },
     "metadata": {
      "needs_background": "light"
     },
     "output_type": "display_data"
    }
   ],
   "source": [
    "X_train_pca=PCA().fit(X_train)\n",
    "X_test_pca=PCA().fit_transform(X_test)\n",
    "plt.figure(figsize=(15,6))\n",
    "plt.plot(np.cumsum(X_train_pca.explained_variance_ratio_))\n",
    "print(np.cumsum(X_train_pca.explained_variance_ratio_))\n",
    "plt.xlabel('number of components')\n",
    "plt.ylabel('cumulative explained variance')\n",
    "plt.xticks()\n",
    "plt.show()"
   ]
  },
  {
   "cell_type": "markdown",
   "metadata": {},
   "source": [
    "As per the graph and the list of variance ratio, we can conclude the the number of component ideal from PCA is 330.\n",
    "\n",
    "Below code we try to fit X_train with hyper parameter 330"
   ]
  },
  {
   "cell_type": "code",
   "execution_count": 24,
   "metadata": {},
   "outputs": [
    {
     "name": "stdout",
     "output_type": "stream",
     "text": [
      "(24274, 330)\n"
     ]
    }
   ],
   "source": [
    "pca = PCA(n_components= 330)\n",
    "pca.fit(X_train)\n",
    "X_train_PCA = pca.transform(X_train)\n",
    "print(X_train_PCA.shape)"
   ]
  },
  {
   "cell_type": "markdown",
   "metadata": {},
   "source": [
    "# 5.0 Model Building\n",
    "\n",
    "Now we have our dataframe, lets start buildig some model.\n",
    "\n",
    "I would build Logistic Regression, RandomForest and Support Vector Machine.\n",
    "\n",
    "And would use Voting Classifier to get the accuracy of each model and find the best one out."
   ]
  },
  {
   "cell_type": "code",
   "execution_count": 25,
   "metadata": {},
   "outputs": [],
   "source": [
    "from sklearn.ensemble import RandomForestClassifier\n",
    "from sklearn.ensemble import VotingClassifier\n",
    "from sklearn.linear_model import LogisticRegression\n",
    "from sklearn.svm import SVC\n",
    "\n",
    "log_clf = LogisticRegression(solver=\"liblinear\", random_state=42)\n",
    "rnd_clf = RandomForestClassifier(n_estimators=100, random_state=42)\n",
    "svm_clf = SVC(gamma=\"auto\", random_state=42)\n",
    "\n",
    "voting_clf = VotingClassifier(\n",
    "    estimators=[('lr', log_clf), ('rf', rnd_clf), ('svc', svm_clf)],\n",
    "    voting='hard')"
   ]
  },
  {
   "cell_type": "markdown",
   "metadata": {},
   "source": [
    "From above code, all 3 models are initialized. Now let's try to fit our X_train and y_train to the voting classifier."
   ]
  },
  {
   "cell_type": "code",
   "execution_count": 26,
   "metadata": {},
   "outputs": [
    {
     "data": {
      "text/plain": [
       "VotingClassifier(estimators=[('lr',\n",
       "                              LogisticRegression(C=1.0, class_weight=None,\n",
       "                                                 dual=False, fit_intercept=True,\n",
       "                                                 intercept_scaling=1,\n",
       "                                                 l1_ratio=None, max_iter=100,\n",
       "                                                 multi_class='warn',\n",
       "                                                 n_jobs=None, penalty='l2',\n",
       "                                                 random_state=42,\n",
       "                                                 solver='liblinear', tol=0.0001,\n",
       "                                                 verbose=0, warm_start=False)),\n",
       "                             ('rf',\n",
       "                              RandomForestClassifier(bootstrap=True,\n",
       "                                                     class_weight=None,\n",
       "                                                     criterion='gin...\n",
       "                                                     n_estimators=100,\n",
       "                                                     n_jobs=None,\n",
       "                                                     oob_score=False,\n",
       "                                                     random_state=42, verbose=0,\n",
       "                                                     warm_start=False)),\n",
       "                             ('svc',\n",
       "                              SVC(C=1.0, cache_size=200, class_weight=None,\n",
       "                                  coef0=0.0, decision_function_shape='ovr',\n",
       "                                  degree=3, gamma='auto', kernel='rbf',\n",
       "                                  max_iter=-1, probability=False,\n",
       "                                  random_state=42, shrinking=True, tol=0.001,\n",
       "                                  verbose=False))],\n",
       "                 flatten_transform=True, n_jobs=None, voting='hard',\n",
       "                 weights=None)"
      ]
     },
     "execution_count": 26,
     "metadata": {},
     "output_type": "execute_result"
    }
   ],
   "source": [
    "voting_clf.fit(X_train, y_train)"
   ]
  },
  {
   "cell_type": "markdown",
   "metadata": {},
   "source": [
    "Now, let's try to get the accuracy from each model"
   ]
  },
  {
   "cell_type": "code",
   "execution_count": 27,
   "metadata": {},
   "outputs": [
    {
     "name": "stdout",
     "output_type": "stream",
     "text": [
      "train: LogisticRegression 0.9131993079014583\n",
      "test: LogisticRegression 0.9110538302642962\n",
      "==================================================================\n",
      "train: RandomForestClassifier 0.9999588036582352\n",
      "test: RandomForestClassifier 0.9134902279267668\n",
      "==================================================================\n",
      "train: SVC 0.9137348603444014\n",
      "test: SVC 0.9118659628184531\n",
      "==================================================================\n",
      "train: VotingClassifier 0.9176897091538272\n",
      "test: VotingClassifier 0.9121131335958051\n",
      "==================================================================\n"
     ]
    }
   ],
   "source": [
    "from sklearn.metrics import accuracy_score\n",
    "\n",
    "for clf in (log_clf, rnd_clf, svm_clf, voting_clf):\n",
    "    clf.fit(X_train, y_train)\n",
    "    y_pred = clf.predict(X_test)\n",
    "    print(\"train:\",clf.__class__.__name__, accuracy_score(y_train, clf.predict(X_train)))\n",
    "    print(\"test:\",clf.__class__.__name__, accuracy_score(y_test, y_pred))\n",
    "    print(\"==================================================================\")"
   ]
  },
  {
   "cell_type": "markdown",
   "metadata": {},
   "source": [
    "From the above voting classifier, seems like Random Forest would be the best choice model for our dataset"
   ]
  },
  {
   "cell_type": "markdown",
   "metadata": {},
   "source": [
    "# 5.1 Run the Model"
   ]
  },
  {
   "cell_type": "code",
   "execution_count": 28,
   "metadata": {},
   "outputs": [],
   "source": [
    "y_pred_rf = rnd_clf.predict(X_test)"
   ]
  },
  {
   "cell_type": "markdown",
   "metadata": {},
   "source": [
    "# 5.2 Evaluate the model"
   ]
  },
  {
   "cell_type": "code",
   "execution_count": 29,
   "metadata": {},
   "outputs": [
    {
     "name": "stdout",
     "output_type": "stream",
     "text": [
      "0.9134902279267668\n"
     ]
    }
   ],
   "source": [
    "print(accuracy_score(y_test, y_pred_rf))"
   ]
  },
  {
   "cell_type": "markdown",
   "metadata": {},
   "source": [
    "After using the predicting our Test data we are getting 91% accuracy from Random Forest model"
   ]
  },
  {
   "cell_type": "markdown",
   "metadata": {},
   "source": [
    "\n",
    "# 5.3 Grid Search - Random Forest\n",
    "\n",
    "Lets do the grid search for random forest to get the best estimator."
   ]
  },
  {
   "cell_type": "code",
   "execution_count": 30,
   "metadata": {},
   "outputs": [
    {
     "data": {
      "text/plain": [
       "GridSearchCV(cv=5, error_score='raise-deprecating',\n",
       "             estimator=RandomForestClassifier(bootstrap=True, class_weight=None,\n",
       "                                              criterion='gini', max_depth=None,\n",
       "                                              max_features='auto',\n",
       "                                              max_leaf_nodes=None,\n",
       "                                              min_impurity_decrease=0.0,\n",
       "                                              min_impurity_split=None,\n",
       "                                              min_samples_leaf=1,\n",
       "                                              min_samples_split=2,\n",
       "                                              min_weight_fraction_leaf=0.0,\n",
       "                                              n_estimators='warn', n_jobs=None,\n",
       "                                              oob_score=False, random_state=123,\n",
       "                                              verbose=0, warm_start=False),\n",
       "             iid='warn', n_jobs=None,\n",
       "             param_grid=[{'n_estimators': [5, 10, 25, 50, 100]}],\n",
       "             pre_dispatch='2*n_jobs', refit=True, return_train_score=False,\n",
       "             scoring=None, verbose=0)"
      ]
     },
     "execution_count": 30,
     "metadata": {},
     "output_type": "execute_result"
    }
   ],
   "source": [
    "from sklearn.model_selection import GridSearchCV\n",
    "param_grid = [{'n_estimators':  [5, 10, 25, 50, 100]}]\n",
    "\n",
    "RF = RandomForestClassifier(random_state=123)\n",
    "\n",
    "grid_search_RF = GridSearchCV(RF, param_grid, cv=5)\n",
    "grid_search_RF.fit(X_train, y_train)"
   ]
  },
  {
   "cell_type": "code",
   "execution_count": 31,
   "metadata": {},
   "outputs": [
    {
     "data": {
      "text/plain": [
       "{'n_estimators': 25}"
      ]
     },
     "execution_count": 31,
     "metadata": {},
     "output_type": "execute_result"
    }
   ],
   "source": [
    "grid_search_RF.best_params_"
   ]
  },
  {
   "cell_type": "code",
   "execution_count": 32,
   "metadata": {},
   "outputs": [
    {
     "name": "stdout",
     "output_type": "stream",
     "text": [
      "0.9067726785861415 {'n_estimators': 5}\n",
      "0.9134464859520475 {'n_estimators': 10}\n",
      "0.913858449369696 {'n_estimators': 25}\n",
      "0.9134876822938123 {'n_estimators': 50}\n",
      "0.913570074977342 {'n_estimators': 100}\n"
     ]
    }
   ],
   "source": [
    "cvres_RF = grid_search_RF.cv_results_\n",
    "\n",
    "for mean_score, params in zip(cvres_RF[\"mean_test_score\"], cvres_RF[\"params\"]):\n",
    "    print(mean_score, params)"
   ]
  },
  {
   "cell_type": "markdown",
   "metadata": {},
   "source": [
    "From Grid Search. looks like the best estimator value is 50"
   ]
  },
  {
   "cell_type": "code",
   "execution_count": 33,
   "metadata": {},
   "outputs": [
    {
     "data": {
      "text/plain": [
       "RandomForestClassifier(bootstrap=True, class_weight=None, criterion='gini',\n",
       "                       max_depth=2, max_features='auto', max_leaf_nodes=None,\n",
       "                       min_impurity_decrease=0.0, min_impurity_split=None,\n",
       "                       min_samples_leaf=1, min_samples_split=2,\n",
       "                       min_weight_fraction_leaf=0.0, n_estimators=25,\n",
       "                       n_jobs=None, oob_score=False, random_state=0, verbose=0,\n",
       "                       warm_start=False)"
      ]
     },
     "execution_count": 33,
     "metadata": {},
     "output_type": "execute_result"
    }
   ],
   "source": [
    "selected_model_rf = RandomForestClassifier(n_estimators=25, max_depth=2,random_state=0)\n",
    "selected_model_rf.fit(X_train, y_train)"
   ]
  },
  {
   "cell_type": "code",
   "execution_count": 34,
   "metadata": {},
   "outputs": [
    {
     "data": {
      "text/plain": [
       "0.9114952066524249"
      ]
     },
     "execution_count": 34,
     "metadata": {},
     "output_type": "execute_result"
    }
   ],
   "source": [
    "selected_model_rf.score(X_test, y_test)"
   ]
  },
  {
   "cell_type": "markdown",
   "metadata": {},
   "source": [
    "# 6.0 Light GBM - Best Feature Selection"
   ]
  },
  {
   "cell_type": "code",
   "execution_count": 37,
   "metadata": {},
   "outputs": [
    {
     "name": "stderr",
     "output_type": "stream",
     "text": [
      "C:\\ProgramData\\Anaconda3\\lib\\site-packages\\lightgbm\\callback.py:188: UserWarning: Early stopping is not available in dart mode\n",
      "  warnings.warn('Early stopping is not available in dart mode')\n"
     ]
    },
    {
     "name": "stdout",
     "output_type": "stream",
     "text": [
      "[50]\tcv_agg's auc: 0.787735 + 0.00538027\n",
      "[100]\tcv_agg's auc: 0.801688 + 0.00539868\n",
      "[150]\tcv_agg's auc: 0.80732 + 0.00631527\n",
      "[200]\tcv_agg's auc: 0.811757 + 0.00630669\n",
      "[250]\tcv_agg's auc: 0.816707 + 0.00694113\n",
      "[300]\tcv_agg's auc: 0.821157 + 0.00607758\n",
      "[350]\tcv_agg's auc: 0.823332 + 0.00617255\n",
      "[400]\tcv_agg's auc: 0.827047 + 0.00630634\n",
      "[450]\tcv_agg's auc: 0.82924 + 0.00572023\n",
      "[500]\tcv_agg's auc: 0.830754 + 0.00605718\n",
      "[550]\tcv_agg's auc: 0.832479 + 0.00598882\n",
      "[600]\tcv_agg's auc: 0.833944 + 0.0061234\n",
      "Optimum boost rounds = 594\n",
      "Best CV result = 0.8339881705649625\n"
     ]
    },
    {
     "data": {
      "image/png": "[encoded data removed]",
      "text/plain": [
       "<Figure size 2880x1440 with 2 Axes>"
      ]
     },
     "metadata": {
      "needs_background": "light"
     },
     "output_type": "display_data"
    }
   ],
   "source": [
    "#!pip install lightgbm\n",
    "import lightgbm as lgbm\n",
    "\n",
    "\"\"\" Train the model \"\"\"\n",
    "\n",
    "\n",
    "# Get the features name from X dataframe.\n",
    "#as the name contains special characters, removing it with below code\n",
    "feature_names = list(X.columns)\n",
    "removetable = str.maketrans('', '', ' -:)_+,(/@#%')\n",
    "feature_names = [s.translate(removetable) for s in feature_names]\n",
    "\n",
    "\n",
    "\n",
    "#initialize the model\n",
    "lgbm_train = lgbm.Dataset(data=X,\n",
    "                          label=y,\n",
    "                          feature_name = feature_names,\n",
    "                          free_raw_data=False)\n",
    "# setting the parameters\n",
    "lgbm_params = {\n",
    "    'boosting': 'dart',\n",
    "    'application': 'binary',\n",
    "    'learning_rate': 0.1,\n",
    "    'min_data_in_leaf': 30,\n",
    "    'num_leaves': 31,\n",
    "    'max_depth': -1,\n",
    "    'feature_fraction': 0.5,\n",
    "    'scale_pos_weight': 2,\n",
    "    'drop_rate': 0.02\n",
    "}\n",
    "\n",
    "#cross validation with fold=5\n",
    "cv_results = lgbm.cv(train_set=lgbm_train,\n",
    "                     params=lgbm_params,\n",
    "                     nfold=5,\n",
    "                     num_boost_round=600,\n",
    "                     early_stopping_rounds=50,\n",
    "                     verbose_eval=50,\n",
    "                     feature_name = feature_names,\n",
    "                     metrics=['auc'])\n",
    "\n",
    "optimum_boost_rounds = np.argmax(cv_results['auc-mean'])\n",
    "print('Optimum boost rounds = {}'.format(optimum_boost_rounds))\n",
    "print('Best CV result = {}'.format(np.max(cv_results['auc-mean'])))\n",
    "\n",
    "clf = lgbm.train(train_set=lgbm_train,\n",
    "                 params=lgbm_params,\n",
    "                 num_boost_round=optimum_boost_rounds)\n",
    "\n",
    "#test set pred\n",
    "y_pred = clf.predict(X_test)\n",
    "\n",
    "\n",
    "\n",
    "fig, (ax, ax1) = plt.subplots(1, 2, figsize=[40, 20])\n",
    "lgbm.plot_importance(clf, ax=ax, max_num_features=50, importance_type='split')\n",
    "lgbm.plot_importance(clf, ax=ax1, max_num_features=50, importance_type='gain')\n",
    "ax.set_title('Importance by splits')\n",
    "ax1.set_title('Importance by gain')\n",
    "plt.tight_layout()"
   ]
  },
  {
   "cell_type": "code",
   "execution_count": null,
   "metadata": {},
   "outputs": [],
   "source": []
  }
 ],
 "metadata": {
  "kernelspec": {
   "display_name": "Python 3",
   "language": "python",
   "name": "python3"
  },
  "language_info": {
   "codemirror_mode": {
    "name": "ipython",
    "version": 3
   },
   "file_extension": ".py",
   "mimetype": "text/x-python",
   "name": "python",
   "nbconvert_exporter": "python",
   "pygments_lexer": "ipython3",
   "version": "3.7.3"
  }
 },
 "nbformat": 4,
 "nbformat_minor": 2
}
